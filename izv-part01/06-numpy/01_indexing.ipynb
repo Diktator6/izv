{
    "cells": [
        {
            "cell_type": "markdown",
            "metadata": {},
            "source": [
                "# Indexování v NumPy v praxi\n",
                "Jako první krok načteme knihovny Numpy a Matplotlib pro vizualizaci."
            ]
        },
        {
            "cell_type": "code",
            "execution_count": null,
            "metadata": {},
            "outputs": [],
            "source": [
                "import numpy as np\n",
                "import matplotlib.pyplot as plt"
            ]
        },
        {
            "cell_type": "markdown",
            "metadata": {},
            "source": [
                "## 1. Indexování booleovským polem\n",
                "Úkol: nakreslete sinusovku takm aby se zobrazovaly pouze kladné půlperiody (jako po průchodu diodou). Dále čárkovanou čarou doplňte chybějící záporné půlperiody."
            ]
        },
        {
            "cell_type": "code",
            "execution_count": null,
            "metadata": {},
            "outputs": [],
            "source": [
                "# vytvoříme si pole x a y pro vykreslení\n",
                "# vytvoříme pole \"neg\" které říká, zda jsme \n",
                "# v druhé půlperiodě (x % 2pi > pi)\n",
                "# Zobrazíme pouze kladné periody\n",
                "# Vytvoříme si pole y2, které v kladných polohách bude nulové\n"
            ]
        },
        {
            "cell_type": "markdown",
            "metadata": {},
            "source": [
                "## 2. Fancy indexing\n",
                "Ukázka indexování polem. Vytvoříme si na začátku pole náhodných bodů (2D)"
            ]
        },
        {
            "cell_type": "code",
            "execution_count": null,
            "metadata": {},
            "outputs": [],
            "source": [
                "X = np.random.multivariate_normal([0, 0], [[1, 2], [2, 5]], 100)"
            ]
        },
        {
            "cell_type": "markdown",
            "metadata": {},
            "source": [
                "Vykreslíme body a náhodně zakroužkujeme 10 bodů"
            ]
        },
        {
            "cell_type": "code",
            "execution_count": null,
            "metadata": {},
            "outputs": [],
            "source": [
                "# Vybereme indexy pro kroužkování jako 10 ze 100 bodů\n",
                "# Vykreslime body - musíme správně extratovat x a y hodnoty\n"
            ]
        },
        {
            "cell_type": "markdown",
            "metadata": {},
            "source": [
                "Dále chceme zobrazit všechny body z X, které jsou uvnitř kružnice o středu [0, 0] a vzdálenosti 1"
            ]
        },
        {
            "cell_type": "code",
            "execution_count": null,
            "metadata": {},
            "outputs": [],
            "source": [
                "# Vytvoříme si bool pole in_circle, které říká, že x**2 + y**2 < 1**2\n",
                "in_circle ###\n",
                "# Vykreslime body\n",
                "plt.scatter(X[~in_circle, 0], X[~in_circle, 1], s = 2, c=\"tab:green\") ###\n",
                "plt.scatter(X[in_circle, 0], X[in_circle, 1], s=2, c=\"tab:orange\") ###\n",
                "plt.axis(\"equal\") ###\n",
                "# vykreslime kruh (matematicky vypocet, samozrejme je mozne pouzit i \n",
                "# plt.Circle a ax.add_patch())\n"
            ]
        },
        {
            "cell_type": "markdown",
            "metadata": {
                "slideshow": {
                    "slide_type": "slide"
                }
            },
            "source": [
                "## 3. Hledač min\n",
                "Mějme 2D pole s 0 a jedničkou 1. Určíme, kolik má každá buňka min vedle sebe. **Pro jednoduchost se budeme dívat jen doleva a doprava ***"
            ]
        },
        {
            "cell_type": "code",
            "execution_count": null,
            "metadata": {},
            "outputs": [],
            "source": [
                "# Vytvoříme si počáteční pole\n",
                "X = np.random.choice([0, 1], size=(8,8))\n",
                "X"
            ]
        },
        {
            "cell_type": "code",
            "execution_count": null,
            "metadata": {},
            "outputs": [],
            "source": [
                "# Vytvořit pole nul (Y) pro výsledky (jako X)\n",
                "# Vypočítat všechny vnitřní sloupce\n",
                "# Vypočítat kraje\n",
                "Y ###"
            ]
        },
        {
            "cell_type": "markdown",
            "metadata": {},
            "source": [
                "# Heating equation"
            ]
        },
        {
            "cell_type": "markdown",
            "metadata": {},
            "source": [
                "Výpočet ohřívání destičky podle toho, jak se v ní šíří teplota. Ukázka čerpá z následujícího [zdroje](https://scipython.com/book/chapter-7-matplotlib/examples/the-two-dimensional-diffusion-equation/)"
            ]
        },
        {
            "cell_type": "markdown",
            "metadata": {},
            "source": [
                "Nastavíme tedy počáteční podmínky (desku bodů)"
            ]
        },
        {
            "cell_type": "code",
            "execution_count": null,
            "metadata": {},
            "outputs": [],
            "source": [
                "# plate size, mm\n",
                "w = h = 10.\n",
                "# intervals in x-, y- directions, mm\n",
                "dx = dy = 0.1\n",
                "# Thermal diffusivity of steel, mm2.s-1\n",
                "D = 4.\n",
                "\n",
                "Tcool, Thot = 100, 700\n",
                "\n",
                "nx, ny = int(w/dx), int(h/dy)\n",
                "\n",
                "dx2, dy2 = dx*dx, dy*dy\n",
                "dt = dx2 * dy2 / (2 * D * (dx2 + dy2))\n",
                "\n",
                "u0 = Tcool * np.ones((nx, ny))\n",
                "u = u0.copy()\n",
                "\n",
                "# Initial conditions - circle of radius r centred at (cx,cy) (mm)\n",
                "r, cx, cy = 4, 5, 5\n",
                "r2 = r**2\n",
                "for i in range(nx):\n",
                "   for j in range(ny):\n",
                "        p2 = (i*dx-cx)**2 + (j*dy-cy)**2\n",
                "        if p2 < r2:\n",
                "            u0[i,j] = Thot\n",
                "plt.imshow(u0, cmap=plt.get_cmap('hot'), vmin=Tcool,vmax=Thot)\n"
            ]
        },
        {
            "cell_type": "markdown",
            "metadata": {},
            "source": [
                "A provedeme výpočet podle numerické difuzní rovnice"
            ]
        },
        {
            "cell_type": "code",
            "execution_count": null,
            "metadata": {},
            "outputs": [],
            "source": [
                "def do_timestep(u0, u):\n",
                "    # Propagate with forward-difference in time, central-difference in space\n",
                "    u[1:-1, 1:-1] = u0[1:-1, 1:-1] + D * dt * (\n",
                "          (u0[2:, 1:-1] - 2*u0[1:-1, 1:-1] + u0[:-2, 1:-1])/dx2\n",
                "          + (u0[1:-1, 2:] - 2*u0[1:-1, 1:-1] + u0[1:-1, :-2])/dy2 )\n",
                "\n",
                "    u0 = u.copy()\n",
                "    return u0, u\n",
                "\n",
                "# Number of timesteps\n",
                "# Output 4 figures at these timesteps\n",
                "mfig = [0, 10, 100, 1000]\n",
                "nsteps = max(mfig) + 1\n",
                "fignum = 0\n",
                "fig = plt.figure(figsize=(8, 8))\n",
                "for m in range(nsteps):\n",
                "    u0, u = do_timestep(u0, u)\n",
                "    if m in mfig:\n",
                "        fignum += 1\n",
                "        ax = fig.add_subplot(220 + fignum)\n",
                "        im = ax.imshow(u.copy(), cmap=plt.get_cmap('hot'), vmin=Tcool,vmax=Thot)\n",
                "        ax.set_axis_off()\n",
                "        ax.set_title('{:.1f} ms'.format(m*dt*1000))\n",
                "fig.subplots_adjust(right=0.85)\n",
                "cbar_ax = fig.add_axes([0.9, 0.15, 0.03, 0.17])\n",
                "cbar_ax.set_xlabel('$T$ / K', labelpad=20)\n",
                "fig.colorbar(im, cax=cbar_ax)\n",
                "plt.show()"
            ]
        },
        {
            "cell_type": "code",
            "execution_count": null,
            "metadata": {},
            "outputs": [],
            "source": []
        }
    ],
    "metadata": {
        "celltoolbar": "Slideshow",
        "kernelspec": {
            "display_name": "Python 3.10.6 64-bit",
            "language": "python",
            "name": "python3"
        },
        "language_info": {
            "codemirror_mode": {
                "name": "ipython",
                "version": 3
            },
            "file_extension": ".py",
            "mimetype": "text/x-python",
            "name": "python",
            "nbconvert_exporter": "python",
            "pygments_lexer": "ipython3",
            "version": "3.10.6"
        },
        "vscode": {
            "interpreter": {
                "hash": "b0fa6594d8f4cbf19f97940f81e996739fb7646882a419484c72d19e05852a7e"
            }
        }
    },
    "nbformat": 4,
    "nbformat_minor": 4
}
